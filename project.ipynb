{
 "cells": [
  {
   "cell_type": "code",
   "execution_count": 3,
   "id": "f3442731-d964-4359-8032-cedab5d49010",
   "metadata": {
    "tags": []
   },
   "outputs": [
    {
     "name": "stdout",
     "output_type": "stream",
     "text": [
      "Requirement already satisfied: pulp in /opt/conda/lib/python3.10/site-packages (2.7.0)\n"
     ]
    }
   ],
   "source": [
    "import sys\n",
    "!{sys.executable} -m pip install pulp "
   ]
  },
  {
   "cell_type": "code",
   "execution_count": 4,
   "id": "79c29fdc-761c-499c-9fac-af645aeb6d42",
   "metadata": {
    "tags": []
   },
   "outputs": [],
   "source": [
    "import pulp"
   ]
  },
  {
   "cell_type": "code",
   "execution_count": 5,
   "id": "d85ba606-6428-49bb-937f-12758684704f",
   "metadata": {
    "tags": []
   },
   "outputs": [],
   "source": [
    "from pulp import *"
   ]
  },
  {
   "cell_type": "code",
   "execution_count": 6,
   "id": "4aba8c43-566c-4bd0-8dc0-852b6618967b",
   "metadata": {
    "tags": []
   },
   "outputs": [],
   "source": [
    "prob = LpProblem(\"Sprouts_Stew_Optimization\", LpMinimize)\n",
    "x_1 = LpVariable(\"x_1\")\n",
    "x_2 = LpVariable(\"x_2\")\n",
    "x_3 = LpVariable(\"x_3\")\n",
    "x_4 = LpVariable(\"x_4\")\n",
    "x_5 = LpVariable(\"x_5\")\n",
    "x_6 = LpVariable(\"x_6\")"
   ]
  },
  {
   "cell_type": "code",
   "execution_count": 7,
   "id": "07d9c568-417e-453e-aa3b-983a92ccf950",
   "metadata": {
    "tags": []
   },
   "outputs": [],
   "source": [
    "prob+=0.0096*x_1+0.0057*x_2+0.0022*x_3+0.0073*x_4+0.0064*x_5+0.0036*x_6\n",
    "\n",
    "prob+=0.012*x_1+0.095*x_2+0.225*x_3+0.16*x_4+0.075*x_5+x_6==250\n",
    "prob+=0*x_1+0.014*x_2+0.011*x_3+0.091*x_4+0.023*x_5+0*x_6>=17\n",
    "prob+=0*x_1+0.1*x_2+0.038*x_3+0.2*x_4+0.23*x_5+0*x_6>=43\n",
    "prob+=0*x_1+0.017*x_2+0.014*x_3+0.08*x_4+0.018*x_5+0*x_6>=11\n",
    "prob+=1*x_1+0.002*x_2+0.0039*x_3+0.004*x_4+0.0082*x_5+0*x_6>=9.5\n",
    "prob+=x_1>=0\n",
    "prob+=x_2>=0\n",
    "prob+=x_3>=0\n",
    "prob+=x_4>=0\n",
    "prob+=x_5>=0\n",
    "prob+=x_6>=0\n"
   ]
  },
  {
   "cell_type": "code",
   "execution_count": 8,
   "id": "df6fc3c1-0ec3-4a2d-ae74-2c3026523d2c",
   "metadata": {
    "tags": []
   },
   "outputs": [
    {
     "name": "stdout",
     "output_type": "stream",
     "text": [
      "GLPSOL--GLPK LP/MIP Solver 5.0\n",
      "Parameter(s) specified in the command line:\n",
      " --cpxlp /tmp/bb452c7a9724456c9a2b924b3f4216d9-pulp.lp -o /tmp/bb452c7a9724456c9a2b924b3f4216d9-pulp.sol\n",
      "Reading problem data from '/tmp/bb452c7a9724456c9a2b924b3f4216d9-pulp.lp'...\n",
      "11 rows, 6 columns, 29 non-zeros\n",
      "24 lines were read\n",
      "GLPK Simplex Optimizer 5.0\n",
      "11 rows, 6 columns, 29 non-zeros\n",
      "Preprocessing...\n",
      "5 rows, 5 columns, 22 non-zeros\n",
      "Scaling...\n",
      " A: min|aij| =  2.000e-03  max|aij| =  1.000e+00  ratio =  5.000e+02\n",
      "GM: min|aij| =  1.201e-01  max|aij| =  8.327e+00  ratio =  6.934e+01\n",
      "EQ: min|aij| =  1.442e-02  max|aij| =  1.000e+00  ratio =  6.934e+01\n",
      "Constructing initial basis...\n",
      "Size of triangular part is 5\n",
      "      0: obj =   9.000000000e-01 inf =   1.388e+01 (4)\n",
      "      4: obj =   2.428230752e+00 inf =   0.000e+00 (0)\n",
      "*     5: obj =   2.376804953e+00 inf =   0.000e+00 (0)\n",
      "OPTIMAL LP SOLUTION FOUND\n",
      "Time used:   0.0 secs\n",
      "Memory used: 0.0 Mb (40655 bytes)\n",
      "Writing basic solution to '/tmp/bb452c7a9724456c9a2b924b3f4216d9-pulp.sol'...\n",
      "Status: Optimal\n"
     ]
    }
   ],
   "source": [
    "# The problem is solved using PuLP's choice of Solver\n",
    "prob.solve()\n",
    "# The status of the solution is printed to the screen\n",
    "print(\"Status:\", LpStatus[prob.status])"
   ]
  },
  {
   "cell_type": "code",
   "execution_count": 310,
   "id": "b99d23be-c64b-42ef-9cc4-9beaa227d998",
   "metadata": {
    "tags": []
   },
   "outputs": [
    {
     "name": "stdout",
     "output_type": "stream",
     "text": [
      "x_1 = 8.52691\n",
      "x_2 = 0.0\n",
      "x_3 = 0.0\n",
      "x_4 = 178.873\n",
      "x_5 = 31.4146\n",
      "x_6 = 218.922\n"
     ]
    }
   ],
   "source": [
    "for a in prob.variables():\n",
    "    print(a.name, \"=\", a.varValue)"
   ]
  },
  {
   "cell_type": "code",
   "execution_count": 311,
   "id": "cc31970a-b5e1-4673-8456-7aa8917a94a4",
   "metadata": {
    "tags": []
   },
   "outputs": [
    {
     "name": "stdout",
     "output_type": "stream",
     "text": [
      "Total Cost of Ingredients per stew =  2.376803876\n"
     ]
    }
   ],
   "source": [
    "print(\"Total Cost of Ingredients per stew = \", value(prob.objective))"
   ]
  },
  {
   "cell_type": "code",
   "execution_count": null,
   "id": "79849b5e-778a-497f-863a-0062cbb05715",
   "metadata": {},
   "outputs": [],
   "source": []
  }
 ],
 "metadata": {
  "kernelspec": {
   "display_name": "Python 3 (ipykernel)",
   "language": "python",
   "name": "python3"
  },
  "language_info": {
   "codemirror_mode": {
    "name": "ipython",
    "version": 3
   },
   "file_extension": ".py",
   "mimetype": "text/x-python",
   "name": "python",
   "nbconvert_exporter": "python",
   "pygments_lexer": "ipython3",
   "version": "3.10.9"
  }
 },
 "nbformat": 4,
 "nbformat_minor": 5
}
